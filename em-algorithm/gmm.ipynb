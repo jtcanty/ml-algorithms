{
 "cells": [
  {
   "cell_type": "markdown",
   "metadata": {},
   "source": [
    "### Gaussian Mixture Model\n",
    "\n",
    "In this notebook, we will implement the EM algorithm to fitting a GMM from simulated data."
   ]
  },
  {
   "cell_type": "code",
   "execution_count": null,
   "metadata": {
    "collapsed": true
   },
   "outputs": [],
   "source": [
    "import numpy as np\n",
    "import matplotlib.pyplot as plt"
   ]
  },
  {
   "cell_type": "code",
   "execution_count": 93,
   "metadata": {},
   "outputs": [
    {
     "name": "stderr",
     "output_type": "stream",
     "text": [
      "/home/john/anaconda3/lib/python3.6/site-packages/ipykernel_launcher.py:19: RuntimeWarning: covariance is not positive-semidefinite.\n"
     ]
    }
   ],
   "source": [
    "# Generate GMM data\n",
    "n_samples = 1000\n",
    "K = 4\n",
    "\n",
    "prob = np.array([.3, .2 , .4, .1])\n",
    "components = np.random.multinomial(n_samples, prob)\n",
    "\n",
    "mu = np.array([[-4, 6], [0, 4], [-6, 3], [-3, 10]])\n",
    "cov = np.array([[[3, 1],[1,1]],[[1,-1.5],[-1.5,.3]],[[.5,1],[1,-0.5]],[[2.5,-4],[-1,1]]])\n",
    "\n",
    "data = np.zeros([n_samples, 2])\n",
    "count = 0\n",
    "\n",
    "for k in range(0, K):\n",
    "    temp = np.random.multivariate_normal(mu[k], cov[k], components[k])\n",
    "    data[count:count + components[k],:] = temp\n",
    "    \n",
    "    count += components[k]\n",
    "\n"
   ]
  },
  {
   "cell_type": "code",
   "execution_count": 94,
   "metadata": {},
   "outputs": [
    {
     "data": {
      "image/png": "[encoded data removed]",
      "text/plain": [
       "<Figure size 432x288 with 1 Axes>"
      ]
     },
     "metadata": {},
     "output_type": "display_data"
    }
   ],
   "source": [
    "# Plot simulated data\n",
    "plt.scatter(data[:,0], data[:,1])\n",
    "plt.show()"
   ]
  },
  {
   "cell_type": "code",
   "execution_count": 13,
   "metadata": {},
   "outputs": [
    {
     "name": "stdout",
     "output_type": "stream",
     "text": [
      "1.75\n",
      "0.875\n",
      "0.7\n",
      "0.5833333333333334\n"
     ]
    }
   ],
   "source": [
    "# Apply the EM algorithm\n",
    "\n",
    "a = [1/6,2/6,3/6,4/6,5/6,6/6]\n",
    "sum(a)\n",
    "\n",
    "P_46 = 1/2\n",
    "\n",
    "P_56 = 1/3\n",
    "\n",
    "P_23456 = 1/5\n",
    "\n",
    "print(sum(a)/2)\n",
    "print(sum(a)/4)\n",
    "print(sum(a)/5)\n",
    "print(sum(a)/6)"
   ]
  },
  {
   "cell_type": "markdown",
   "metadata": {},
   "source": [
    "### References\n",
    "\n",
    "Andrew Ng. 2018. CS 229 Lecture Notes - Mixtures of Gaussians and the EM Algorithm\n",
    "\n",
    "Christopher M. Bishop. 2006. Pattern Recognition and Machine Learning (Information Science and Statistics). Springer-Verlag, Berlin, Heidelberg."
   ]
  }
 ],
 "metadata": {
  "kernelspec": {
   "display_name": "Python 3",
   "language": "python",
   "name": "python3"
  },
  "language_info": {
   "codemirror_mode": {
    "name": "ipython",
    "version": 3
   },
   "file_extension": ".py",
   "mimetype": "text/x-python",
   "name": "python",
   "nbconvert_exporter": "python",
   "pygments_lexer": "ipython3",
   "version": "3.6.1"
  }
 },
 "nbformat": 4,
 "nbformat_minor": 2
}
