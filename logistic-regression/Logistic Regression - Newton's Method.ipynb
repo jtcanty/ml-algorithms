{
 "cells": [
  {
   "cell_type": "markdown",
   "metadata": {},
   "source": [
    "# Logistic Regression - Newton's Method\n",
    "\n",
    "In this notebook, I implement Newton's Method in order to minimize the empirical loss function $J(\\theta)$ for logistic regression given below:\n",
    "\n",
    "\\begin{equation*}\n",
    "J(\\theta) = -\\frac{1}{m} \\sum_{i=1}^m \\log{h_{\\theta}(y^{(i)}x^{(i)}})  \n",
    "\\quad\\quad \\text{where  $y^{(i)} \\in \\{-1,1\\},\\quad $ $h_{\\theta}(x) = \\frac{1}{1+e^{-y\\theta^T x}}$}\n",
    "\\end{equation*}\n",
    "\n",
    "The basic approach of Newton's method is to perform the following update rule on a parameter $\\theta$ in order to maximize the logistic regression log -likelihood function $l(\\theta)$:\n",
    "\n",
    "\\begin{equation*}\n",
    "\\theta := \\theta - \\frac{l'(\\theta)}{l''(\\theta)} \n",
    "\\end{equation*}\n",
    "\n",
    "However, in the multi-dimensional case, since $\\theta$ is a **vector**, the method can be generalized using the Hessian matrix $H$:\n",
    "\n",
    "\\begin{equation*}\n",
    "\\theta := \\theta - H^{-1} \\nabla_{\\theta}l(\\theta) \n",
    "\\end{equation*}\n",
    "\n",
    "We will play around with this algorithm using data from the first problem-set of Andrew Ng's popular machine-learning course **CS229**. For more information, visit http://cs229.stanford.edu/. \n",
    " \n",
    "**Please note** that this is a practice implementation only. It does not include more advanced features such as regularization and is not optimized for speed. \n"
   ]
  },
  {
   "cell_type": "markdown",
   "metadata": {},
   "source": [
    "### Exploratory Data Analysis\n",
    "\n",
    "Let's import the data from the CS229 website and create binary scatter-plot."
   ]
  },
  {
   "cell_type": "code",
   "execution_count": 256,
   "metadata": {},
   "outputs": [
    {
     "data": {
      "image/png": "[encoded data removed]",
      "text/plain": [
       "<matplotlib.figure.Figure at 0x7fbc0acb30b8>"
      ]
     },
     "metadata": {},
     "output_type": "display_data"
    }
   ],
   "source": [
    "import pandas as pd\n",
    "import numpy as np\n",
    "import matplotlib.pyplot as plt\n",
    "import time\n",
    "\n",
    "# Import data into pandas\n",
    "x_url = 'http://cs229.stanford.edu/ps/ps1/logistic_x.txt'\n",
    "y_url = 'http://cs229.stanford.edu/ps/ps1/logistic_y.txt'\n",
    "\n",
    "x = pd.read_csv(x_url, sep=\"\\s+\", names=['$X_1$','$X_2$'])\n",
    "y = pd.read_csv(y_url, names = 'Y')\n",
    "\n",
    "data = pd.concat([x,y],axis=1)\n",
    "\n",
    "# Create binary scatter-plot of data\n",
    "condition = data['Y'] > 0\n",
    "subset_1 = data[condition]\n",
    "subset_2 = data[~condition]\n",
    "\n",
    "plt.scatter(subset_1['$X_1$'],subset_1['$X_2$'], c='b', alpha=0.75, edgecolors='k', label='Y > 0')\n",
    "plt.scatter(subset_2['$X_1$'],subset_2['$X_2$'], c='r', alpha=0.75, edgecolors='k', label='Y < 0')\n",
    "plt.xlabel('$X_1$')\n",
    "plt.ylabel('$X_2$')\n",
    "plt.legend()\n",
    "plt.show()\n",
    "\n"
   ]
  },
  {
   "cell_type": "markdown",
   "metadata": {},
   "source": [
    "Looking at the scatter-plot above, we can note several features that support our decision to use a logistic regression model:\n",
    "   1. The data looks reasonably linearly separable.\n",
    "   2. Same number of labels and features\n",
    "   3. No significant outliers for each label\n",
    "   4. Small number of features "
   ]
  },
  {
   "cell_type": "markdown",
   "metadata": {},
   "source": [
    "### Applying Newton's Method\n",
    "\n",
    "First, we need to separately compute $\\nabla_{\\theta}l(\\theta)$ and $H^{-1}$. Then we apply the update rule to $\\theta$. In this case, $l(\\theta)$ is equivalent to our cost function $J(\\theta)$."
   ]
  },
  {
   "cell_type": "code",
   "execution_count": 257,
   "metadata": {
    "collapsed": true
   },
   "outputs": [],
   "source": [
    "# Define the functions used for applying Newton's Method\n",
    "\n",
    "def cost_gradient(m, theta, x, y):\n",
    "    '''Computes the gradients of the log-likelihood function w.r.t to each parameter\n",
    "    \n",
    "        Parameters\n",
    "        ----------\n",
    "        theta: np.array\n",
    "            Numpy array of parameter values\n",
    "        x: np.array\n",
    "            Numpy array of data\n",
    "        y: np.array\n",
    "            Numpy array of response labels\n",
    "        \n",
    "        Returns\n",
    "        -------\n",
    "        gradient: np.array\n",
    "            Numpy array of gradients w.r.t each parameter\n",
    "            \n",
    "    '''\n",
    "    gradient = np.zeros(len(theta))\n",
    "    \n",
    "    for i in range(0,len(theta)):\n",
    "        gradient[i] = (-1/m)*sum((sigmoid(theta, x, -y))*y[:,0]*x[:,i])\n",
    "        \n",
    "    return gradient\n",
    "    \n",
    "def inverse_hessian(n, theta, x, y):\n",
    "    '''Computes the Inverse of the Hessian of the log-likelihood function\n",
    "        \n",
    "        Parameters\n",
    "        ----------\n",
    "        n: int\n",
    "            Integer of length of parameter vector including intercept term\n",
    "        theta: np.array\n",
    "            Numpy array of parameter values\n",
    "        x: np.array\n",
    "            Numpy array of data\n",
    "        y: np.array\n",
    "            Numpy array of response labels\n",
    "            \n",
    "        Returns\n",
    "        -------\n",
    "        inv_hessian: np.array\n",
    "            Numpy array of inverted Hessian matrix\n",
    "    '''\n",
    "    hessian = np.zeros((n+1,n+1))\n",
    "\n",
    "    for i in range(0,n+1):\n",
    "        for j in range(0,n+1):\n",
    "            hessian[i,j] = (1/m)*sum(sigmoid(theta, x, y)*(1-sigmoid(theta, x, y))*x[:,i]*x[:,j])\n",
    "    \n",
    "    inv_hessian = np.linalg.inv(hessian)\n",
    "    \n",
    "    return inv_hessian\n",
    "\n",
    "def fisher(theta, gradient, inv_hessian):\n",
    "    '''Applies Fisher's scoring algorithm to update the parameter vector theta\n",
    "\n",
    "        Parameters\n",
    "        ----------\n",
    "        theta: np.array\n",
    "            Numpy array of parameter vector\n",
    "        gradient: np.array\n",
    "            Numpy array of gradients w.r.t. parameters\n",
    "        inv_hessian: np.array\n",
    "            Numpy array of inverse hessian w.r.t. parameters\n",
    "        Returns\n",
    "        -------\n",
    "        theta: np.array\n",
    "            Numpy array of updated parameter vector\n",
    "    '''  \n",
    "    theta = theta - inv_hessian.dot(gradient)\n",
    "    \n",
    "    return theta\n",
    "    \n",
    "\n",
    "def sigmoid(theta, x, y):\n",
    "    '''Compute the sigmoid of a parameter vector, data matrix, and the reponse labels\n",
    "    \n",
    "        Parameters\n",
    "        ----------\n",
    "        theta: np.array\n",
    "            Numpy array of parameter values\n",
    "        x: np.array\n",
    "            Numpy array of data\n",
    "        y: np.array\n",
    "            Numpy array of response labels\n",
    "            \n",
    "        Returns\n",
    "        -------\n",
    "        sigmoid: np.array\n",
    "            Numpy array of sigmoid values\n",
    "    '''\n",
    "    sigmoid = 1/(1+ np.exp(-y[:,0]*x.dot(theta)))\n",
    "    \n",
    "    return sigmoid"
   ]
  },
  {
   "cell_type": "code",
   "execution_count": 258,
   "metadata": {},
   "outputs": [
    {
     "name": "stdout",
     "output_type": "stream",
     "text": [
      "50.000000 iterations completed in: 0.079765 secs\n"
     ]
    }
   ],
   "source": [
    "# Applying Newtons Method using the functions above. Additionally, we will benchmark the algorithm.\n",
    "\n",
    "# Setup the data matrices and the parameter vector\n",
    "[m, n] = np.shape(x)\n",
    "\n",
    "# Add the intercept term to the data \n",
    "x = np.column_stack((np.ones(m),x.values))\n",
    "y = y.values\n",
    "\n",
    "# Initialize theta vector\n",
    "theta = np.zeros(n+1)\n",
    "\n",
    "# Run Newton's Method.\n",
    "n_iter = 50\n",
    "\n",
    "start = time.time()\n",
    "cost_array = np.zeros(n_iter)\n",
    "\n",
    "for i in range(0,n_iter):\n",
    "    gradient = cost_gradient(m, theta, x, y)\n",
    "    inv_hessian = inverse_hessian(n, theta, x, y)\n",
    "    \n",
    "    theta = fisher(theta, gradient, inv_hessian)\n",
    "    cost_array[i] = (-1/m)*sum(np.log(sigmoid(theta, x, y)))\n",
    "\n",
    "end = time.time() \n",
    "print('%f iterations completed in: %f secs' %(n_iter, end-start))\n"
   ]
  },
  {
   "cell_type": "markdown",
   "metadata": {},
   "source": [
    "### Evaluation Metrics\n",
    "\n",
    "Next, we will plot the cost function versus the number of iterations in order to get a sense of the convergence rate. Additionally, we will plot the decision boundary to see how well it partitions the data."
   ]
  },
  {
   "cell_type": "code",
   "execution_count": 276,
   "metadata": {},
   "outputs": [
    {
     "data": {
      "image/png": "[encoded data removed]",
      "text/plain": [
       "<matplotlib.figure.Figure at 0x7fbc0a9b10b8>"
      ]
     },
     "metadata": {},
     "output_type": "display_data"
    },
    {
     "data": {
      "image/png": "[encoded data removed]",
      "text/plain": [
       "<matplotlib.figure.Figure at 0x7fbc0b315f60>"
      ]
     },
     "metadata": {},
     "output_type": "display_data"
    }
   ],
   "source": [
    "# Plot the decision boundary\n",
    "x1 = np.linspace(min(x[:,1]),max(x[:,1]),100)\n",
    "x2 = -(theta[1]/theta[2])*x1 - (theta[0]/theta[2])\n",
    "\n",
    "plt.scatter(subset_1['$X_1$'],subset_1['$X_2$'], c='b', alpha=0.5, edgecolors='k', label='Y > 0')\n",
    "plt.scatter(subset_2['$X_1$'],subset_2['$X_2$'], c='r', alpha=0.5, edgecolors='k', label='Y < 0')\n",
    "plt.plot(x1,x2,'k')\n",
    "plt.xlabel('$X_1$')\n",
    "plt.ylabel('$X_2$')\n",
    "plt.legend()\n",
    "plt.show()\n",
    "\n",
    "# Plot the converge rate (cost-function gradient vs. iterations)\n",
    "plt.plot(cost_array)\n",
    "plt.xlabel('Iterations')\n",
    "plt.ylabel('$J(\\Theta)$')\n",
    "plt.show()"
   ]
  },
  {
   "cell_type": "markdown",
   "metadata": {},
   "source": [
    "The decision boundary looks pretty good given that we are not performing any regularization. Additionally, we can note that the converge rate using Newton's method is extremely fast (only 3 iterations) before reaching the optimal decision boundary."
   ]
  }
 ],
 "metadata": {
  "kernelspec": {
   "display_name": "Python 3",
   "language": "python",
   "name": "python3"
  },
  "language_info": {
   "codemirror_mode": {
    "name": "ipython",
    "version": 3
   },
   "file_extension": ".py",
   "mimetype": "text/x-python",
   "name": "python",
   "nbconvert_exporter": "python",
   "pygments_lexer": "ipython3",
   "version": "3.6.1"
  }
 },
 "nbformat": 4,
 "nbformat_minor": 2
}
